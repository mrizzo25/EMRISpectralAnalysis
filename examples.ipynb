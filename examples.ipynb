{
 "cells": [
  {
   "cell_type": "code",
   "execution_count": null,
   "metadata": {},
   "outputs": [],
   "source": [
    "import numpy as np\n",
    "from SingleWF import GenerateSingleSpectrum\n",
    "from GenerateSpectra import GenerateSpectra\n",
    "from quill_plots import PlotGriddedSpectra\n",
    "\n",
    "import matplotlib.pyplot as plt\n",
    "plt.rcParams.update({'font.size': 16})"
   ]
  },
  {
   "cell_type": "markdown",
   "metadata": {},
   "source": [
    "# Single WF/Spectrum"
   ]
  },
  {
   "cell_type": "code",
   "execution_count": null,
   "metadata": {},
   "outputs": [],
   "source": [
    "#classes containing options that would otherwise be passed on the commandline\n",
    "class SingleArgs:\n",
    "\n",
    "    save_file = True #save data files?\n",
    "    save_fig = False #automatically generate and save figures?\n",
    "    fname = \"default_param_test\" #filename to save data\n",
    "    use_cl = False #run using commandline (calculates trajectory)\n",
    "    angle_avg = False #integrate over angle (takes a hot second)\n",
    "    output_phases = False #compute AAK phases\n",
    "    scatter = True #which type of plotting (can be changed after the fact)\n",
    "    overwrite = True #if file exists, overwrite it?\n",
    "    "
   ]
  },
  {
   "cell_type": "code",
   "execution_count": null,
   "metadata": {},
   "outputs": [],
   "source": [
    "#initialize a single wf class with default parameters\n",
    "default_single = GenerateSingleSpectrum(SingleArgs)"
   ]
  },
  {
   "cell_type": "code",
   "execution_count": null,
   "metadata": {},
   "outputs": [],
   "source": [
    "#print out default parameters\n",
    "print(default_single.params)"
   ]
  },
  {
   "cell_type": "code",
   "execution_count": null,
   "metadata": {},
   "outputs": [],
   "source": [
    "#what does the waveform look like?\n",
    "default_single.plot_wf()\n",
    "plt.show()"
   ]
  },
  {
   "cell_type": "code",
   "execution_count": null,
   "metadata": {},
   "outputs": [],
   "source": [
    "#and the spectrum?\n",
    "default_single.plot_spectrum()\n",
    "plt.show()"
   ]
  },
  {
   "cell_type": "code",
   "execution_count": null,
   "metadata": {},
   "outputs": [],
   "source": [
    "#change some parameters?\n",
    "class SingleArgs_new_params:\n",
    "\n",
    "    save_file = True #save data files?\n",
    "    save_fig = False #automatically generate and save figures?\n",
    "    fname = \"default_param_test\" #filename to save data\n",
    "    use_cl = False #run using commandline (calculates trajectory)\n",
    "    angle_avg = False #integrate over angle (takes a hot second)\n",
    "    output_phases = False #compute AAK phases\n",
    "    scatter = True #which type of plotting (can be changed after the fact)\n",
    "    overwrite = True #if file exists, overwrite it?\n",
    "    \n",
    "    #variable names same as parameter dictionary keys\n",
    "    e = 0.5\n",
    "    p = 8.0\n",
    "    iota = 20. * np.pi/180.\n",
    "    s = 0.2"
   ]
  },
  {
   "cell_type": "code",
   "execution_count": null,
   "metadata": {},
   "outputs": [],
   "source": [
    "#initialize a single wf class with default parameters\n",
    "new_params_single = GenerateSingleSpectrum(SingleArgs_new_params)"
   ]
  },
  {
   "cell_type": "code",
   "execution_count": null,
   "metadata": {},
   "outputs": [],
   "source": [
    "new_params_single.plot_wf()\n",
    "plt.show()"
   ]
  },
  {
   "cell_type": "code",
   "execution_count": null,
   "metadata": {},
   "outputs": [],
   "source": [
    "new_params_single.plot_spectrum()\n",
    "plt.show()"
   ]
  },
  {
   "cell_type": "markdown",
   "metadata": {},
   "source": [
    "# Running from the commandline\n",
    "\n",
    "This will perform the same operations, but will also save trajectory data if that information is of interest"
   ]
  },
  {
   "cell_type": "code",
   "execution_count": null,
   "metadata": {},
   "outputs": [],
   "source": [
    "class SingleArgs_cl_interface:\n",
    "\n",
    "    save_file = True #save data files?\n",
    "    save_fig = False #automatically generate and save figures?\n",
    "    fname = \"default_param_test\" #filename to save data\n",
    "    use_cl = True #run using commandline (calculates trajectory)\n",
    "    angle_avg = False #integrate over angle (takes a hot second)\n",
    "    output_phases = False #compute AAK phases\n",
    "    scatter = True #which type of plotting (can be changed after the fact)\n",
    "    overwrite = True #if file exists, overwrite it?\n",
    "    \n",
    "    #variable names same as parameter dictionary keys\n",
    "    e = 0.5\n",
    "    p = 8.0\n",
    "    iota = 20. * np.pi/180. #angles are in radian\n",
    "    s = 0.2"
   ]
  },
  {
   "cell_type": "code",
   "execution_count": null,
   "metadata": {},
   "outputs": [],
   "source": [
    "use_cl_single = GenerateSingleSpectrum(SingleArgs_cl_interface)"
   ]
  },
  {
   "cell_type": "code",
   "execution_count": null,
   "metadata": {},
   "outputs": [],
   "source": [
    "use_cl_single.plot_wf()\n",
    "plt.show()\n",
    "use_cl_single.plot_spectrum()\n",
    "plt.show()"
   ]
  },
  {
   "cell_type": "code",
   "execution_count": null,
   "metadata": {},
   "outputs": [],
   "source": [
    "#can also now look at trajectory\n",
    "#no built in plotting methods yet, but can be modified to include\n",
    "\n",
    "#column info found in EMRI Kludge README:\n",
    "#t, p/M, e, iota, E, L_z, Q\n",
    "trajectory_data = np.loadtxt(\"wf_data/default_param_test_traj.dat\")\n",
    "\n",
    "\n",
    "plt.figure(figsize=(10, 8))\n",
    "plt.title(\"eccentricity evolution\")\n",
    "plt.plot(trajectory_data[:, 0], trajectory_data[:, 2])\n",
    "plt.xlabel(\"t(s)\")\n",
    "plt.ylabel(\"e\")\n",
    "plt.show()\n",
    "\n",
    "plt.figure(figsize=(10, 8))\n",
    "plt.title(\"inclination evolution\")\n",
    "plt.plot(trajectory_data[:, 0], trajectory_data[:, 3])\n",
    "plt.xlabel(\"t(s)\")\n",
    "plt.ylabel(\"$\\iota$\")\n",
    "plt.show()\n",
    "\n",
    "plt.figure(figsize=(10, 8))\n",
    "plt.title(\"slr evolution\")\n",
    "plt.plot(trajectory_data[:, 0], trajectory_data[:, 1])\n",
    "plt.xlabel(\"t(s)\")\n",
    "plt.ylabel(\"$p$\")\n",
    "plt.show()"
   ]
  },
  {
   "cell_type": "markdown",
   "metadata": {},
   "source": [
    "# Grid of Parameters"
   ]
  },
  {
   "cell_type": "code",
   "execution_count": null,
   "metadata": {},
   "outputs": [],
   "source": [
    "class GridArgs:\n",
    "    \n",
    "    n_grid = 5 #n_grid^n_param grid\n",
    "    grid_param = ['e', 'iota'] #names correspond to param dict\n",
    "    log_scale_param = None #either None, or list of parameters to log scale\n",
    "    fix_sma = None #fix semimajor axis to given value\n",
    "    p_isco_fraction = None #fix p/p_isco if varying spin\n",
    "    \n",
    "    binning = False #bin spectra (saves storage space)\n",
    "    store_wf = True #save waveform for each pt on grid\n",
    "    power_cutoff = -10 #log cutoff for normalized power spectrum\n",
    "    \n",
    "    fname = \"grid_test\"\n",
    "    existing = False #append to existing grid (feature not implemented yet)\n",
    "    use_cl = False #use commandline (necessary if trajectories are required)\n",
    "    \n",
    "    verbose = True\n",
    "    overwrite = True #overwrite file if it exists\n",
    "    \n",
    "    #change grid ranges\n",
    "    e_min = 0.01\n",
    "    e_max = 0.8\n",
    "    \n",
    "    #change parameter values\n",
    "    dt = 0.1\n",
    "    length = 540000    "
   ]
  },
  {
   "cell_type": "code",
   "execution_count": null,
   "metadata": {},
   "outputs": [],
   "source": [
    "spectra_grid = GenerateSpectra(GridArgs)"
   ]
  },
  {
   "cell_type": "code",
   "execution_count": null,
   "metadata": {},
   "outputs": [],
   "source": [
    "#pass name of h5 file\n",
    "#necessarily looks in the data directory\n",
    "quillplots = PlotGriddedSpectra(\"grid_test.hdf5\")"
   ]
  },
  {
   "cell_type": "code",
   "execution_count": null,
   "metadata": {},
   "outputs": [],
   "source": [
    "print(quillplots.parameter_ranges)"
   ]
  },
  {
   "cell_type": "code",
   "execution_count": null,
   "metadata": {},
   "outputs": [],
   "source": [
    "#plot single spectrum/waveform either by referencing index or value\n",
    "quillplots.plot_single_waveform({'e':1, 'iota':3})\n",
    "plt.show()\n",
    "\n",
    "\n",
    "quillplots.plot_single_waveform({'e':0.8, 'iota':0.})\n",
    "plt.show()"
   ]
  },
  {
   "cell_type": "code",
   "execution_count": null,
   "metadata": {},
   "outputs": [],
   "source": [
    "#plot single spectrum/waveform either by referencing index or value\n",
    "quillplots.plot_single_spectrum({'e':1, 'iota':3})\n",
    "plt.show()\n",
    "\n",
    "\n",
    "quillplots.plot_single_spectrum({'e':0.8, 'iota':0.})\n",
    "plt.show()"
   ]
  },
  {
   "cell_type": "code",
   "execution_count": null,
   "metadata": {},
   "outputs": [],
   "source": [
    "#and finally, the quill plot\n",
    "quillplots.quill_plot({'e': 0})\n",
    "plt.show()"
   ]
  },
  {
   "cell_type": "code",
   "execution_count": null,
   "metadata": {},
   "outputs": [],
   "source": [
    "quillplots.quill_plot({'e': 4})\n",
    "plt.show()"
   ]
  },
  {
   "cell_type": "code",
   "execution_count": null,
   "metadata": {},
   "outputs": [],
   "source": [
    "quillplots.quill_plot({'iota': 0})\n",
    "plt.show()"
   ]
  },
  {
   "cell_type": "code",
   "execution_count": null,
   "metadata": {},
   "outputs": [],
   "source": [
    "quillplots.quill_plot({'iota': 4})\n",
    "plt.show()"
   ]
  },
  {
   "cell_type": "markdown",
   "metadata": {},
   "source": [
    "# Grid with more parameters"
   ]
  },
  {
   "cell_type": "markdown",
   "metadata": {},
   "source": [
    "This example takes longer to run, but here is a demonstration of how to create a grid with more dimensions.\n",
    "\n",
    "(be careful, might crash if trying to run in notebook)"
   ]
  },
  {
   "cell_type": "code",
   "execution_count": null,
   "metadata": {},
   "outputs": [],
   "source": [
    "class GridArgs:\n",
    "    \n",
    "    n_grid = 5 #n_grid^n_param grid\n",
    "    grid_param = ['e', 'iota', 's'] #names correspond to param dict\n",
    "    log_scale_param = None #either None, or list of parameters to log scale\n",
    "    fix_sma = None #fix semimajor axis to given value\n",
    "    p_isco_fraction = 1.5 #fix p/p_isco if varying spin\n",
    "    \n",
    "    binning = False #bin spectra (saves storage space)\n",
    "    store_wf = True #save waveform for each pt on grid\n",
    "    power_cutoff = -10 #log cutoff for normalized power spectrum\n",
    "    \n",
    "    fname = \"grid_test\"\n",
    "    existing = False #append to existing grid (feature not implemented yet)\n",
    "    use_cl = False #use commandline (necessary if trajectories are required)\n",
    "    \n",
    "    verbose = True\n",
    "    overwrite = True #overwrite file if it exists\n",
    "    \n",
    "    #change grid ranges\n",
    "    e_min = 0.01\n",
    "    e_max = 0.8\n",
    "    \n",
    "    #change parameter values\n",
    "    #12 hr segments\n",
    "    dt = 0.1\n",
    "    length = 432000  "
   ]
  },
  {
   "cell_type": "code",
   "execution_count": null,
   "metadata": {},
   "outputs": [],
   "source": [
    "spectra_grid = GenerateSpectra(GridArgs)"
   ]
  },
  {
   "cell_type": "code",
   "execution_count": null,
   "metadata": {},
   "outputs": [],
   "source": []
  }
 ],
 "metadata": {
  "kernelspec": {
   "display_name": "Python 3",
   "language": "python",
   "name": "python3"
  },
  "language_info": {
   "codemirror_mode": {
    "name": "ipython",
    "version": 3
   },
   "file_extension": ".py",
   "mimetype": "text/x-python",
   "name": "python",
   "nbconvert_exporter": "python",
   "pygments_lexer": "ipython3",
   "version": "3.6.8"
  }
 },
 "nbformat": 4,
 "nbformat_minor": 2
}
